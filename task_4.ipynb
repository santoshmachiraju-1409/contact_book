{
  "nbformat": 4,
  "nbformat_minor": 0,
  "metadata": {
    "colab": {
      "name": "task 4.ipynb",
      "provenance": [],
      "collapsed_sections": [],
      "authorship_tag": "ABX9TyNbEZYdwygv0SFSM/bURdDN",
      "include_colab_link": true
    },
    "kernelspec": {
      "name": "python3",
      "display_name": "Python 3"
    },
    "language_info": {
      "name": "python"
    }
  },
  "cells": [
    {
      "cell_type": "markdown",
      "metadata": {
        "id": "view-in-github",
        "colab_type": "text"
      },
      "source": [
        "<a href=\"https://colab.research.google.com/github/santoshmachiraju-1409/contact_book/blob/master/task_4.ipynb\" target=\"_parent\"><img src=\"https://colab.research.google.com/assets/colab-badge.svg\" alt=\"Open In Colab\"/></a>"
      ]
    },
    {
      "cell_type": "markdown",
      "source": [
        "Packages imported "
      ],
      "metadata": {
        "id": "hJSjii9oxw4N"
      }
    },
    {
      "cell_type": "code",
      "execution_count": 1,
      "metadata": {
        "id": "SXQ2smb9piLC"
      },
      "outputs": [],
      "source": [
        "import pandas as pd\n",
        "import matplotlib.pyplot as plt\n",
        "import numpy as np"
      ]
    },
    {
      "cell_type": "markdown",
      "source": [
        "data frame to read data from CSV"
      ],
      "metadata": {
        "id": "WTCjGZIIx7D3"
      }
    },
    {
      "cell_type": "code",
      "source": [
        "df=pd.read_csv(\"/content/college_1.csv\")\n",
        "print(df)"
      ],
      "metadata": {
        "colab": {
          "base_uri": "https://localhost:8080/"
        },
        "id": "1S9jCJGVqlmy",
        "outputId": "94905cd8-f6f2-49be-e537-ef3f58586d07"
      },
      "execution_count": 6,
      "outputs": [
        {
          "output_type": "stream",
          "name": "stdout",
          "text": [
            "              Name  python  mysql  Previous Geekions  CodeKata Score  \\\n",
            "0        A.Dharani    82.0   20.0              24500           24500   \n",
            "1      V.JEEVITHA     82.0   20.0              21740           21740   \n",
            "2      HEMAVATHI.R   100.0  100.0              19680           19680   \n",
            "3      Mugunthan S   100.0   47.0              10610           10610   \n",
            "4      Sathammai.S   100.0    8.0               8980            8980   \n",
            "..             ...     ...    ...                ...             ...   \n",
            "79    KarthikeyanS    45.0    0.0                  0               0   \n",
            "80        BARATH.P    29.0    0.0                  0               0   \n",
            "81   N.Ajith kumar    82.0    0.0                  0               0   \n",
            "82    mohamed nabi     0.0    0.0                  0               0   \n",
            "83  yaser ahamed.A     0.0   27.0                  0               0   \n",
            "\n",
            "                                Department  Rising  \n",
            "0         Computer Science and Engineering       0  \n",
            "1         Computer Science and Engineering       0  \n",
            "2         Computer Science and Engineering       0  \n",
            "3         Computer Science and Engineering       0  \n",
            "4         Computer Science and Engineering       0  \n",
            "..                                     ...     ...  \n",
            "79  Electronics and Electrical Engineering       0  \n",
            "80  Electronics and Electrical Engineering       0  \n",
            "81  Electronics and Electrical Engineering       0  \n",
            "82  Electronics and Electrical Engineering       0  \n",
            "83  Electronics and Electrical Engineering       0  \n",
            "\n",
            "[84 rows x 7 columns]\n"
          ]
        }
      ]
    },
    {
      "cell_type": "code",
      "source": [
        "df1=pd.read_csv(\"/content/college_2.csv\")\n",
        "print(df1)"
      ],
      "metadata": {
        "colab": {
          "base_uri": "https://localhost:8080/"
        },
        "id": "0WldvNXXrFb9",
        "outputId": "4aed44b1-a679-4aa7-8ea2-e8f425008d0c"
      },
      "execution_count": 7,
      "outputs": [
        {
          "output_type": "stream",
          "name": "stdout",
          "text": [
            "                      Name  python  python_en  mysql  computational_thinking  \\\n",
            "0            ASHOK KUMAR K     100          0     31                       9   \n",
            "1                  Chandru       0         20      0                       0   \n",
            "2        Ganesh Ramkumar R      -1         55     24                       6   \n",
            "3          Bodipudi Harini      -1          0     35                      -1   \n",
            "4                VIINU V P      -1        100     24                      -1   \n",
            "5               Poojitha Y       0         78     35                       0   \n",
            "6   Gowtham Chandrasekaran      -1          0      0                       3   \n",
            "7                Gowtham R      -1         60      4                       6   \n",
            "8                 shifak N      58          0      0                       0   \n",
            "9                  Balaji       -1        100     20                       0   \n",
            "10                Rushitha      -1         15     62                       9   \n",
            "11    Balaraman Muthupandi      -1          9      0                       0   \n",
            "12                JPradhap     100          0      0                       0   \n",
            "13           SRIRAMKUMAR B      -1          0      0                       0   \n",
            "14               Praneetha      -1         23    100                      -1   \n",
            "15             Rahul Raj K      -1          0      0                       0   \n",
            "16                 Guhan S      -1         72     35                      39   \n",
            "17            Suryarajan S      -1         63     31                       0   \n",
            "18          Narasimhan Y L      -1         -1      0                       0   \n",
            "19            Leelakrishna      -1          6      4                       0   \n",
            "20          PremsagarReddy      -1         20      0                       0   \n",
            "21               pradeeban      16         20     24                       0   \n",
            "22             santhoshini      -1         43      0                       0   \n",
            "23              MUKESH S M      -1         46      0                       0   \n",
            "24           P.GOVARDHANAN      -1         40      0                      -1   \n",
            "25            SHAIK DANISH      -1         43      0                       0   \n",
            "26               sridhar.s      -1         52      0                       0   \n",
            "27       Vimalesh Fernando      -1          0      0                       0   \n",
            "28           M.Karthikeyan      -1          0      4                       6   \n",
            "29               Abishak s      -1         55     35                       6   \n",
            "30           praveen raj j      24         -1      0                       0   \n",
            "31              AMARNATH D      -1         52     12                      -1   \n",
            "32                    bala      32         49      0                      -1   \n",
            "33                    XY Z      -1         20     -1                      -1   \n",
            "34               Hariharan      -1         -1     -1                       0   \n",
            "\n",
            "    Previous Geekions  CodeKata Score  \\\n",
            "0               19400           19400   \n",
            "1               14150           14490   \n",
            "2                8790           10790   \n",
            "3               10040           10040   \n",
            "4                9150            9150   \n",
            "5                7210            8970   \n",
            "6                7250            8950   \n",
            "7                8650            8650   \n",
            "8                5180            8320   \n",
            "9                6170            8160   \n",
            "10               7470            8090   \n",
            "11               7670            8050   \n",
            "12               7340            8030   \n",
            "13               6400            7940   \n",
            "14               7170            7730   \n",
            "15               6280            7640   \n",
            "16               7310            7630   \n",
            "17               6710            7550   \n",
            "18               4800            6800   \n",
            "19               5300            6640   \n",
            "20               5290            6290   \n",
            "21               6060            6090   \n",
            "22               3910            5740   \n",
            "23               5200            5200   \n",
            "24               5050            5050   \n",
            "25               4050            4820   \n",
            "26               3860            4440   \n",
            "27               4170            4170   \n",
            "28               4020            4020   \n",
            "29               3220            3220   \n",
            "30               2380            2380   \n",
            "31               1890            1890   \n",
            "32               1720            1720   \n",
            "33                  0               0   \n",
            "34                  0               0   \n",
            "\n",
            "                                   Department  Rising  \n",
            "0      Electronics and Electrical Engineering       0  \n",
            "1            Computer Science and Engineering     340  \n",
            "2            Computer Science and Engineering    2000  \n",
            "3   Electronics and Communication Engineering       0  \n",
            "4      Electronics and Electrical Engineering       0  \n",
            "5            Computer Science and Engineering    1760  \n",
            "6            Computer Science and Engineering    1700  \n",
            "7   Electronics and Communication Engineering       0  \n",
            "8      Electronics and Electrical Engineering    3140  \n",
            "9      Electronics and Electrical Engineering    1990  \n",
            "10           Computer Science and Engineering     620  \n",
            "11           Computer Science and Engineering     380  \n",
            "12     Electronics and Electrical Engineering     690  \n",
            "13           Computer Science and Engineering    1540  \n",
            "14  Electronics and Communication Engineering     560  \n",
            "15           Computer Science and Engineering    1360  \n",
            "16  Electronics and Communication Engineering     320  \n",
            "17           Computer Science and Engineering     840  \n",
            "18           Computer Science and Engineering    2000  \n",
            "19           Computer Science and Engineering    1340  \n",
            "20           Computer Science and Engineering    1000  \n",
            "21           Computer Science and Engineering      30  \n",
            "22           Computer Science and Engineering    1830  \n",
            "23           Computer Science and Engineering       0  \n",
            "24  Electronics and Communication Engineering       0  \n",
            "25           Computer Science and Engineering     770  \n",
            "26           Computer Science and Engineering     580  \n",
            "27           Computer Science and Engineering       0  \n",
            "28           Computer Science and Engineering       0  \n",
            "29  Electronics and Communication Engineering       0  \n",
            "30           Computer Science and Engineering       0  \n",
            "31  Electronics and Communication Engineering       0  \n",
            "32  Electronics and Communication Engineering       0  \n",
            "33           Computer Science and Engineering       0  \n",
            "34           Computer Science and Engineering       0  \n"
          ]
        }
      ]
    },
    {
      "cell_type": "markdown",
      "source": [
        "appended both CSV into data frame "
      ],
      "metadata": {
        "id": "8hc3QDM1yDj6"
      }
    },
    {
      "cell_type": "code",
      "source": [
        "df2=df.append(df1,ignore_index=True)\n",
        "df2"
      ],
      "metadata": {
        "id": "mNcWHhL8rW6J",
        "colab": {
          "base_uri": "https://localhost:8080/",
          "height": 424
        },
        "outputId": "2f89630f-130c-4ff3-a8b0-969ac1df5f2b"
      },
      "execution_count": 8,
      "outputs": [
        {
          "output_type": "execute_result",
          "data": {
            "text/plain": [
              "              Name  python  mysql  Previous Geekions  CodeKata Score  \\\n",
              "0        A.Dharani    82.0   20.0              24500           24500   \n",
              "1      V.JEEVITHA     82.0   20.0              21740           21740   \n",
              "2      HEMAVATHI.R   100.0  100.0              19680           19680   \n",
              "3      Mugunthan S   100.0   47.0              10610           10610   \n",
              "4      Sathammai.S   100.0    8.0               8980            8980   \n",
              "..             ...     ...    ...                ...             ...   \n",
              "114  praveen raj j    24.0    0.0               2380            2380   \n",
              "115     AMARNATH D    -1.0   12.0               1890            1890   \n",
              "116           bala    32.0    0.0               1720            1720   \n",
              "117           XY Z    -1.0   -1.0                  0               0   \n",
              "118      Hariharan    -1.0   -1.0                  0               0   \n",
              "\n",
              "                                    Department  Rising  python_en  \\\n",
              "0             Computer Science and Engineering       0        NaN   \n",
              "1             Computer Science and Engineering       0        NaN   \n",
              "2             Computer Science and Engineering       0        NaN   \n",
              "3             Computer Science and Engineering       0        NaN   \n",
              "4             Computer Science and Engineering       0        NaN   \n",
              "..                                         ...     ...        ...   \n",
              "114           Computer Science and Engineering       0       -1.0   \n",
              "115  Electronics and Communication Engineering       0       52.0   \n",
              "116  Electronics and Communication Engineering       0       49.0   \n",
              "117           Computer Science and Engineering       0       20.0   \n",
              "118           Computer Science and Engineering       0       -1.0   \n",
              "\n",
              "     computational_thinking  \n",
              "0                       NaN  \n",
              "1                       NaN  \n",
              "2                       NaN  \n",
              "3                       NaN  \n",
              "4                       NaN  \n",
              "..                      ...  \n",
              "114                     0.0  \n",
              "115                    -1.0  \n",
              "116                    -1.0  \n",
              "117                    -1.0  \n",
              "118                     0.0  \n",
              "\n",
              "[119 rows x 9 columns]"
            ],
            "text/html": [
              "\n",
              "  <div id=\"df-05481501-a899-44ec-99f8-7133b1af1557\">\n",
              "    <div class=\"colab-df-container\">\n",
              "      <div>\n",
              "<style scoped>\n",
              "    .dataframe tbody tr th:only-of-type {\n",
              "        vertical-align: middle;\n",
              "    }\n",
              "\n",
              "    .dataframe tbody tr th {\n",
              "        vertical-align: top;\n",
              "    }\n",
              "\n",
              "    .dataframe thead th {\n",
              "        text-align: right;\n",
              "    }\n",
              "</style>\n",
              "<table border=\"1\" class=\"dataframe\">\n",
              "  <thead>\n",
              "    <tr style=\"text-align: right;\">\n",
              "      <th></th>\n",
              "      <th>Name</th>\n",
              "      <th>python</th>\n",
              "      <th>mysql</th>\n",
              "      <th>Previous Geekions</th>\n",
              "      <th>CodeKata Score</th>\n",
              "      <th>Department</th>\n",
              "      <th>Rising</th>\n",
              "      <th>python_en</th>\n",
              "      <th>computational_thinking</th>\n",
              "    </tr>\n",
              "  </thead>\n",
              "  <tbody>\n",
              "    <tr>\n",
              "      <th>0</th>\n",
              "      <td>A.Dharani</td>\n",
              "      <td>82.0</td>\n",
              "      <td>20.0</td>\n",
              "      <td>24500</td>\n",
              "      <td>24500</td>\n",
              "      <td>Computer Science and Engineering</td>\n",
              "      <td>0</td>\n",
              "      <td>NaN</td>\n",
              "      <td>NaN</td>\n",
              "    </tr>\n",
              "    <tr>\n",
              "      <th>1</th>\n",
              "      <td>V.JEEVITHA</td>\n",
              "      <td>82.0</td>\n",
              "      <td>20.0</td>\n",
              "      <td>21740</td>\n",
              "      <td>21740</td>\n",
              "      <td>Computer Science and Engineering</td>\n",
              "      <td>0</td>\n",
              "      <td>NaN</td>\n",
              "      <td>NaN</td>\n",
              "    </tr>\n",
              "    <tr>\n",
              "      <th>2</th>\n",
              "      <td>HEMAVATHI.R</td>\n",
              "      <td>100.0</td>\n",
              "      <td>100.0</td>\n",
              "      <td>19680</td>\n",
              "      <td>19680</td>\n",
              "      <td>Computer Science and Engineering</td>\n",
              "      <td>0</td>\n",
              "      <td>NaN</td>\n",
              "      <td>NaN</td>\n",
              "    </tr>\n",
              "    <tr>\n",
              "      <th>3</th>\n",
              "      <td>Mugunthan S</td>\n",
              "      <td>100.0</td>\n",
              "      <td>47.0</td>\n",
              "      <td>10610</td>\n",
              "      <td>10610</td>\n",
              "      <td>Computer Science and Engineering</td>\n",
              "      <td>0</td>\n",
              "      <td>NaN</td>\n",
              "      <td>NaN</td>\n",
              "    </tr>\n",
              "    <tr>\n",
              "      <th>4</th>\n",
              "      <td>Sathammai.S</td>\n",
              "      <td>100.0</td>\n",
              "      <td>8.0</td>\n",
              "      <td>8980</td>\n",
              "      <td>8980</td>\n",
              "      <td>Computer Science and Engineering</td>\n",
              "      <td>0</td>\n",
              "      <td>NaN</td>\n",
              "      <td>NaN</td>\n",
              "    </tr>\n",
              "    <tr>\n",
              "      <th>...</th>\n",
              "      <td>...</td>\n",
              "      <td>...</td>\n",
              "      <td>...</td>\n",
              "      <td>...</td>\n",
              "      <td>...</td>\n",
              "      <td>...</td>\n",
              "      <td>...</td>\n",
              "      <td>...</td>\n",
              "      <td>...</td>\n",
              "    </tr>\n",
              "    <tr>\n",
              "      <th>114</th>\n",
              "      <td>praveen raj j</td>\n",
              "      <td>24.0</td>\n",
              "      <td>0.0</td>\n",
              "      <td>2380</td>\n",
              "      <td>2380</td>\n",
              "      <td>Computer Science and Engineering</td>\n",
              "      <td>0</td>\n",
              "      <td>-1.0</td>\n",
              "      <td>0.0</td>\n",
              "    </tr>\n",
              "    <tr>\n",
              "      <th>115</th>\n",
              "      <td>AMARNATH D</td>\n",
              "      <td>-1.0</td>\n",
              "      <td>12.0</td>\n",
              "      <td>1890</td>\n",
              "      <td>1890</td>\n",
              "      <td>Electronics and Communication Engineering</td>\n",
              "      <td>0</td>\n",
              "      <td>52.0</td>\n",
              "      <td>-1.0</td>\n",
              "    </tr>\n",
              "    <tr>\n",
              "      <th>116</th>\n",
              "      <td>bala</td>\n",
              "      <td>32.0</td>\n",
              "      <td>0.0</td>\n",
              "      <td>1720</td>\n",
              "      <td>1720</td>\n",
              "      <td>Electronics and Communication Engineering</td>\n",
              "      <td>0</td>\n",
              "      <td>49.0</td>\n",
              "      <td>-1.0</td>\n",
              "    </tr>\n",
              "    <tr>\n",
              "      <th>117</th>\n",
              "      <td>XY Z</td>\n",
              "      <td>-1.0</td>\n",
              "      <td>-1.0</td>\n",
              "      <td>0</td>\n",
              "      <td>0</td>\n",
              "      <td>Computer Science and Engineering</td>\n",
              "      <td>0</td>\n",
              "      <td>20.0</td>\n",
              "      <td>-1.0</td>\n",
              "    </tr>\n",
              "    <tr>\n",
              "      <th>118</th>\n",
              "      <td>Hariharan</td>\n",
              "      <td>-1.0</td>\n",
              "      <td>-1.0</td>\n",
              "      <td>0</td>\n",
              "      <td>0</td>\n",
              "      <td>Computer Science and Engineering</td>\n",
              "      <td>0</td>\n",
              "      <td>-1.0</td>\n",
              "      <td>0.0</td>\n",
              "    </tr>\n",
              "  </tbody>\n",
              "</table>\n",
              "<p>119 rows × 9 columns</p>\n",
              "</div>\n",
              "      <button class=\"colab-df-convert\" onclick=\"convertToInteractive('df-05481501-a899-44ec-99f8-7133b1af1557')\"\n",
              "              title=\"Convert this dataframe to an interactive table.\"\n",
              "              style=\"display:none;\">\n",
              "        \n",
              "  <svg xmlns=\"http://www.w3.org/2000/svg\" height=\"24px\"viewBox=\"0 0 24 24\"\n",
              "       width=\"24px\">\n",
              "    <path d=\"M0 0h24v24H0V0z\" fill=\"none\"/>\n",
              "    <path d=\"M18.56 5.44l.94 2.06.94-2.06 2.06-.94-2.06-.94-.94-2.06-.94 2.06-2.06.94zm-11 1L8.5 8.5l.94-2.06 2.06-.94-2.06-.94L8.5 2.5l-.94 2.06-2.06.94zm10 10l.94 2.06.94-2.06 2.06-.94-2.06-.94-.94-2.06-.94 2.06-2.06.94z\"/><path d=\"M17.41 7.96l-1.37-1.37c-.4-.4-.92-.59-1.43-.59-.52 0-1.04.2-1.43.59L10.3 9.45l-7.72 7.72c-.78.78-.78 2.05 0 2.83L4 21.41c.39.39.9.59 1.41.59.51 0 1.02-.2 1.41-.59l7.78-7.78 2.81-2.81c.8-.78.8-2.07 0-2.86zM5.41 20L4 18.59l7.72-7.72 1.47 1.35L5.41 20z\"/>\n",
              "  </svg>\n",
              "      </button>\n",
              "      \n",
              "  <style>\n",
              "    .colab-df-container {\n",
              "      display:flex;\n",
              "      flex-wrap:wrap;\n",
              "      gap: 12px;\n",
              "    }\n",
              "\n",
              "    .colab-df-convert {\n",
              "      background-color: #E8F0FE;\n",
              "      border: none;\n",
              "      border-radius: 50%;\n",
              "      cursor: pointer;\n",
              "      display: none;\n",
              "      fill: #1967D2;\n",
              "      height: 32px;\n",
              "      padding: 0 0 0 0;\n",
              "      width: 32px;\n",
              "    }\n",
              "\n",
              "    .colab-df-convert:hover {\n",
              "      background-color: #E2EBFA;\n",
              "      box-shadow: 0px 1px 2px rgba(60, 64, 67, 0.3), 0px 1px 3px 1px rgba(60, 64, 67, 0.15);\n",
              "      fill: #174EA6;\n",
              "    }\n",
              "\n",
              "    [theme=dark] .colab-df-convert {\n",
              "      background-color: #3B4455;\n",
              "      fill: #D2E3FC;\n",
              "    }\n",
              "\n",
              "    [theme=dark] .colab-df-convert:hover {\n",
              "      background-color: #434B5C;\n",
              "      box-shadow: 0px 1px 3px 1px rgba(0, 0, 0, 0.15);\n",
              "      filter: drop-shadow(0px 1px 2px rgba(0, 0, 0, 0.3));\n",
              "      fill: #FFFFFF;\n",
              "    }\n",
              "  </style>\n",
              "\n",
              "      <script>\n",
              "        const buttonEl =\n",
              "          document.querySelector('#df-05481501-a899-44ec-99f8-7133b1af1557 button.colab-df-convert');\n",
              "        buttonEl.style.display =\n",
              "          google.colab.kernel.accessAllowed ? 'block' : 'none';\n",
              "\n",
              "        async function convertToInteractive(key) {\n",
              "          const element = document.querySelector('#df-05481501-a899-44ec-99f8-7133b1af1557');\n",
              "          const dataTable =\n",
              "            await google.colab.kernel.invokeFunction('convertToInteractive',\n",
              "                                                     [key], {});\n",
              "          if (!dataTable) return;\n",
              "\n",
              "          const docLinkHtml = 'Like what you see? Visit the ' +\n",
              "            '<a target=\"_blank\" href=https://colab.research.google.com/notebooks/data_table.ipynb>data table notebook</a>'\n",
              "            + ' to learn more about interactive tables.';\n",
              "          element.innerHTML = '';\n",
              "          dataTable['output_type'] = 'display_data';\n",
              "          await google.colab.output.renderOutput(dataTable, element);\n",
              "          const docLink = document.createElement('div');\n",
              "          docLink.innerHTML = docLinkHtml;\n",
              "          element.appendChild(docLink);\n",
              "        }\n",
              "      </script>\n",
              "    </div>\n",
              "  </div>\n",
              "  "
            ]
          },
          "metadata": {},
          "execution_count": 8
        }
      ]
    },
    {
      "cell_type": "markdown",
      "source": [
        "# stored data for the Exceeded expectaion in a different csv by splitting data as per consition above 15000"
      ],
      "metadata": {
        "id": "4ZM7yb1syJ16"
      }
    },
    {
      "cell_type": "code",
      "source": [
        "df3=df2[(df2[\"CodeKata Score\"]>15000)]"
      ],
      "metadata": {
        "id": "5sYsdT-usVtb"
      },
      "execution_count": 9,
      "outputs": []
    },
    {
      "cell_type": "code",
      "source": [
        "df3.to_csv(\"/content/Exceeded expectations.csv\")"
      ],
      "metadata": {
        "id": "fEHtdq3pvUtt"
      },
      "execution_count": 10,
      "outputs": []
    },
    {
      "cell_type": "markdown",
      "source": [
        "stored data for the Exceeded expectaion in a different csv by splitting data as per condition less than 15000 and above 10000"
      ],
      "metadata": {
        "id": "bex6jJBlyctX"
      }
    },
    {
      "cell_type": "code",
      "source": [
        "df4=df2[(df2[\"CodeKata Score\"]>10000) & (df2[\"CodeKata Score\"]<=15000)]\n",
        "df4.to_csv(\"Reached_expectations.csv\")"
      ],
      "metadata": {
        "id": "Jqv3XBUiv6Z8"
      },
      "execution_count": 11,
      "outputs": []
    },
    {
      "cell_type": "markdown",
      "source": [
        "stored data for the Exceeded expectaion in a different csv by splitting data as per condition less than 10000 and above 7000"
      ],
      "metadata": {
        "id": "4QSaTxPxysIH"
      }
    },
    {
      "cell_type": "code",
      "source": [
        "df5=df2[(df2[\"CodeKata Score\"]>7000) & (df2[\"CodeKata Score\"]<=10000)]\n",
        "df5.to_csv(\"Needs_Improvement.csv\")"
      ],
      "metadata": {
        "id": "AksMet45wmUG"
      },
      "execution_count": 12,
      "outputs": []
    },
    {
      "cell_type": "markdown",
      "source": [
        "stored data for the Exceeded expectaion in a different csv by splitting data as per condition less than 7000"
      ],
      "metadata": {
        "id": "yJ6RVZCZyv58"
      }
    },
    {
      "cell_type": "code",
      "source": [
        "df6=df2[(df2[\"CodeKata Score\"]<=7000)]\n",
        "df6.to_csv(\"Unsatisfactory.csv\")"
      ],
      "metadata": {
        "id": "HM7jvOh7xBOo"
      },
      "execution_count": 13,
      "outputs": []
    },
    {
      "cell_type": "markdown",
      "source": [
        "Average of previous week geekions vs this week geekions (i.e Previous Geekions vs CodeKata Score)"
      ],
      "metadata": {
        "id": "VIc_5VlExutI"
      }
    },
    {
      "cell_type": "code",
      "source": [
        "previous_week_avg=df2[\"Previous Geekions\"].mean()\n",
        "print(format(previous_week_avg,\".2f\"))"
      ],
      "metadata": {
        "colab": {
          "base_uri": "https://localhost:8080/"
        },
        "id": "0-2q0Rqjxvxv",
        "outputId": "54735d87-0677-4e94-d70f-e0448ed6148c"
      },
      "execution_count": 14,
      "outputs": [
        {
          "output_type": "stream",
          "name": "stdout",
          "text": [
            "3842.35\n"
          ]
        }
      ]
    },
    {
      "cell_type": "code",
      "source": [
        "current_week_avg=df2[\"CodeKata Score\"].mean()\n",
        "print(format(current_week_avg,\".2f\"))"
      ],
      "metadata": {
        "colab": {
          "base_uri": "https://localhost:8080/"
        },
        "id": "VhUn-JqU1Ovl",
        "outputId": "e690153e-e3be-440e-dce6-e18f44dc1b77"
      },
      "execution_count": 15,
      "outputs": [
        {
          "output_type": "stream",
          "name": "stdout",
          "text": [
            "4051.76\n"
          ]
        }
      ]
    },
    {
      "cell_type": "code",
      "source": [
        "print(format(previous_week_avg,\".2f\"),\"VS\",format(current_week_avg,\".2f\"))"
      ],
      "metadata": {
        "colab": {
          "base_uri": "https://localhost:8080/"
        },
        "id": "pUnxTt8G1ap0",
        "outputId": "1bfc0f9b-5fbe-4eef-fbb6-0bdcb7835312"
      },
      "execution_count": 16,
      "outputs": [
        {
          "output_type": "stream",
          "name": "stdout",
          "text": [
            "3842.35 VS 4051.76\n"
          ]
        }
      ]
    },
    {
      "cell_type": "code",
      "source": [
        "no_of_studnts=df2[\"Name\"].count()\n",
        "no_of_studnts"
      ],
      "metadata": {
        "colab": {
          "base_uri": "https://localhost:8080/"
        },
        "id": "o7TQqQhC4ww7",
        "outputId": "4ef6275d-9a67-4614-bc6d-2b9ca119a33a"
      },
      "execution_count": 17,
      "outputs": [
        {
          "output_type": "execute_result",
          "data": {
            "text/plain": [
              "119"
            ]
          },
          "metadata": {},
          "execution_count": 17
        }
      ]
    },
    {
      "cell_type": "code",
      "source": [
        "avg_python=df2[\"python\"].mean()\n",
        "avg_python"
      ],
      "metadata": {
        "colab": {
          "base_uri": "https://localhost:8080/"
        },
        "id": "IGDnG9au52RL",
        "outputId": "e353afe4-6a1c-45d2-a866-46f451964e64"
      },
      "execution_count": 18,
      "outputs": [
        {
          "output_type": "execute_result",
          "data": {
            "text/plain": [
              "54.35294117647059"
            ]
          },
          "metadata": {},
          "execution_count": 18
        }
      ]
    },
    {
      "cell_type": "code",
      "source": [
        "top3_CS=df2.nlargest(3,[\"CodeKata Score\"])\n",
        "print(top3_CS)"
      ],
      "metadata": {
        "id": "AK6Px7LO7D6H",
        "colab": {
          "base_uri": "https://localhost:8080/"
        },
        "outputId": "01bff849-19da-4a48-d5b6-4825a5ee57ea"
      },
      "execution_count": 19,
      "outputs": [
        {
          "output_type": "stream",
          "name": "stdout",
          "text": [
            "          Name  python  mysql  Previous Geekions  CodeKata Score  \\\n",
            "0    A.Dharani    82.0   20.0              24500           24500   \n",
            "1  V.JEEVITHA     82.0   20.0              21740           21740   \n",
            "2  HEMAVATHI.R   100.0  100.0              19680           19680   \n",
            "\n",
            "                         Department  Rising  python_en  computational_thinking  \n",
            "0  Computer Science and Engineering       0        NaN                     NaN  \n",
            "1  Computer Science and Engineering       0        NaN                     NaN  \n",
            "2  Computer Science and Engineering       0        NaN                     NaN  \n"
          ]
        }
      ]
    },
    {
      "cell_type": "code",
      "source": [
        "top3_rs=df2.nlargest(3,[\"Rising\"])\n",
        "print(top3_rs)"
      ],
      "metadata": {
        "id": "hIeMapdC7jZF",
        "colab": {
          "base_uri": "https://localhost:8080/"
        },
        "outputId": "7cf9baa9-8b7d-4050-c5ce-283b863f8aac"
      },
      "execution_count": 20,
      "outputs": [
        {
          "output_type": "stream",
          "name": "stdout",
          "text": [
            "                  Name  python  mysql  Previous Geekions  CodeKata Score  \\\n",
            "92            shifak N    58.0    0.0               5180            8320   \n",
            "86   Ganesh Ramkumar R    -1.0   24.0               8790           10790   \n",
            "102     Narasimhan Y L    -1.0    0.0               4800            6800   \n",
            "\n",
            "                                 Department  Rising  python_en  \\\n",
            "92   Electronics and Electrical Engineering    3140        0.0   \n",
            "86         Computer Science and Engineering    2000       55.0   \n",
            "102        Computer Science and Engineering    2000       -1.0   \n",
            "\n",
            "     computational_thinking  \n",
            "92                      0.0  \n",
            "86                      6.0  \n",
            "102                     0.0  \n"
          ]
        }
      ]
    },
    {
      "cell_type": "code",
      "source": [
        "df7=df2[[\"CodeKata Score\",\"Department\"]]\n",
        "df7"
      ],
      "metadata": {
        "colab": {
          "base_uri": "https://localhost:8080/",
          "height": 424
        },
        "id": "Qk55WH-KWACq",
        "outputId": "a3357e8b-c12e-47f0-eaba-9a3b3f37d3b3"
      },
      "execution_count": 27,
      "outputs": [
        {
          "output_type": "execute_result",
          "data": {
            "text/plain": [
              "     CodeKata Score                                 Department\n",
              "0             24500           Computer Science and Engineering\n",
              "1             21740           Computer Science and Engineering\n",
              "2             19680           Computer Science and Engineering\n",
              "3             10610           Computer Science and Engineering\n",
              "4              8980           Computer Science and Engineering\n",
              "..              ...                                        ...\n",
              "114            2380           Computer Science and Engineering\n",
              "115            1890  Electronics and Communication Engineering\n",
              "116            1720  Electronics and Communication Engineering\n",
              "117               0           Computer Science and Engineering\n",
              "118               0           Computer Science and Engineering\n",
              "\n",
              "[119 rows x 2 columns]"
            ],
            "text/html": [
              "\n",
              "  <div id=\"df-92292741-fa61-4eb7-8b1d-e70f4d3ad7a4\">\n",
              "    <div class=\"colab-df-container\">\n",
              "      <div>\n",
              "<style scoped>\n",
              "    .dataframe tbody tr th:only-of-type {\n",
              "        vertical-align: middle;\n",
              "    }\n",
              "\n",
              "    .dataframe tbody tr th {\n",
              "        vertical-align: top;\n",
              "    }\n",
              "\n",
              "    .dataframe thead th {\n",
              "        text-align: right;\n",
              "    }\n",
              "</style>\n",
              "<table border=\"1\" class=\"dataframe\">\n",
              "  <thead>\n",
              "    <tr style=\"text-align: right;\">\n",
              "      <th></th>\n",
              "      <th>CodeKata Score</th>\n",
              "      <th>Department</th>\n",
              "    </tr>\n",
              "  </thead>\n",
              "  <tbody>\n",
              "    <tr>\n",
              "      <th>0</th>\n",
              "      <td>24500</td>\n",
              "      <td>Computer Science and Engineering</td>\n",
              "    </tr>\n",
              "    <tr>\n",
              "      <th>1</th>\n",
              "      <td>21740</td>\n",
              "      <td>Computer Science and Engineering</td>\n",
              "    </tr>\n",
              "    <tr>\n",
              "      <th>2</th>\n",
              "      <td>19680</td>\n",
              "      <td>Computer Science and Engineering</td>\n",
              "    </tr>\n",
              "    <tr>\n",
              "      <th>3</th>\n",
              "      <td>10610</td>\n",
              "      <td>Computer Science and Engineering</td>\n",
              "    </tr>\n",
              "    <tr>\n",
              "      <th>4</th>\n",
              "      <td>8980</td>\n",
              "      <td>Computer Science and Engineering</td>\n",
              "    </tr>\n",
              "    <tr>\n",
              "      <th>...</th>\n",
              "      <td>...</td>\n",
              "      <td>...</td>\n",
              "    </tr>\n",
              "    <tr>\n",
              "      <th>114</th>\n",
              "      <td>2380</td>\n",
              "      <td>Computer Science and Engineering</td>\n",
              "    </tr>\n",
              "    <tr>\n",
              "      <th>115</th>\n",
              "      <td>1890</td>\n",
              "      <td>Electronics and Communication Engineering</td>\n",
              "    </tr>\n",
              "    <tr>\n",
              "      <th>116</th>\n",
              "      <td>1720</td>\n",
              "      <td>Electronics and Communication Engineering</td>\n",
              "    </tr>\n",
              "    <tr>\n",
              "      <th>117</th>\n",
              "      <td>0</td>\n",
              "      <td>Computer Science and Engineering</td>\n",
              "    </tr>\n",
              "    <tr>\n",
              "      <th>118</th>\n",
              "      <td>0</td>\n",
              "      <td>Computer Science and Engineering</td>\n",
              "    </tr>\n",
              "  </tbody>\n",
              "</table>\n",
              "<p>119 rows × 2 columns</p>\n",
              "</div>\n",
              "      <button class=\"colab-df-convert\" onclick=\"convertToInteractive('df-92292741-fa61-4eb7-8b1d-e70f4d3ad7a4')\"\n",
              "              title=\"Convert this dataframe to an interactive table.\"\n",
              "              style=\"display:none;\">\n",
              "        \n",
              "  <svg xmlns=\"http://www.w3.org/2000/svg\" height=\"24px\"viewBox=\"0 0 24 24\"\n",
              "       width=\"24px\">\n",
              "    <path d=\"M0 0h24v24H0V0z\" fill=\"none\"/>\n",
              "    <path d=\"M18.56 5.44l.94 2.06.94-2.06 2.06-.94-2.06-.94-.94-2.06-.94 2.06-2.06.94zm-11 1L8.5 8.5l.94-2.06 2.06-.94-2.06-.94L8.5 2.5l-.94 2.06-2.06.94zm10 10l.94 2.06.94-2.06 2.06-.94-2.06-.94-.94-2.06-.94 2.06-2.06.94z\"/><path d=\"M17.41 7.96l-1.37-1.37c-.4-.4-.92-.59-1.43-.59-.52 0-1.04.2-1.43.59L10.3 9.45l-7.72 7.72c-.78.78-.78 2.05 0 2.83L4 21.41c.39.39.9.59 1.41.59.51 0 1.02-.2 1.41-.59l7.78-7.78 2.81-2.81c.8-.78.8-2.07 0-2.86zM5.41 20L4 18.59l7.72-7.72 1.47 1.35L5.41 20z\"/>\n",
              "  </svg>\n",
              "      </button>\n",
              "      \n",
              "  <style>\n",
              "    .colab-df-container {\n",
              "      display:flex;\n",
              "      flex-wrap:wrap;\n",
              "      gap: 12px;\n",
              "    }\n",
              "\n",
              "    .colab-df-convert {\n",
              "      background-color: #E8F0FE;\n",
              "      border: none;\n",
              "      border-radius: 50%;\n",
              "      cursor: pointer;\n",
              "      display: none;\n",
              "      fill: #1967D2;\n",
              "      height: 32px;\n",
              "      padding: 0 0 0 0;\n",
              "      width: 32px;\n",
              "    }\n",
              "\n",
              "    .colab-df-convert:hover {\n",
              "      background-color: #E2EBFA;\n",
              "      box-shadow: 0px 1px 2px rgba(60, 64, 67, 0.3), 0px 1px 3px 1px rgba(60, 64, 67, 0.15);\n",
              "      fill: #174EA6;\n",
              "    }\n",
              "\n",
              "    [theme=dark] .colab-df-convert {\n",
              "      background-color: #3B4455;\n",
              "      fill: #D2E3FC;\n",
              "    }\n",
              "\n",
              "    [theme=dark] .colab-df-convert:hover {\n",
              "      background-color: #434B5C;\n",
              "      box-shadow: 0px 1px 3px 1px rgba(0, 0, 0, 0.15);\n",
              "      filter: drop-shadow(0px 1px 2px rgba(0, 0, 0, 0.3));\n",
              "      fill: #FFFFFF;\n",
              "    }\n",
              "  </style>\n",
              "\n",
              "      <script>\n",
              "        const buttonEl =\n",
              "          document.querySelector('#df-92292741-fa61-4eb7-8b1d-e70f4d3ad7a4 button.colab-df-convert');\n",
              "        buttonEl.style.display =\n",
              "          google.colab.kernel.accessAllowed ? 'block' : 'none';\n",
              "\n",
              "        async function convertToInteractive(key) {\n",
              "          const element = document.querySelector('#df-92292741-fa61-4eb7-8b1d-e70f4d3ad7a4');\n",
              "          const dataTable =\n",
              "            await google.colab.kernel.invokeFunction('convertToInteractive',\n",
              "                                                     [key], {});\n",
              "          if (!dataTable) return;\n",
              "\n",
              "          const docLinkHtml = 'Like what you see? Visit the ' +\n",
              "            '<a target=\"_blank\" href=https://colab.research.google.com/notebooks/data_table.ipynb>data table notebook</a>'\n",
              "            + ' to learn more about interactive tables.';\n",
              "          element.innerHTML = '';\n",
              "          dataTable['output_type'] = 'display_data';\n",
              "          await google.colab.output.renderOutput(dataTable, element);\n",
              "          const docLink = document.createElement('div');\n",
              "          docLink.innerHTML = docLinkHtml;\n",
              "          element.appendChild(docLink);\n",
              "        }\n",
              "      </script>\n",
              "    </div>\n",
              "  </div>\n",
              "  "
            ]
          },
          "metadata": {},
          "execution_count": 27
        }
      ]
    },
    {
      "cell_type": "code",
      "source": [
        "df8=pd.pivot_table(df7,index=[\"Department\"],aggfunc=np.sum)\n",
        "df8"
      ],
      "metadata": {
        "colab": {
          "base_uri": "https://localhost:8080/",
          "height": 175
        },
        "id": "T0DXkotlZn2h",
        "outputId": "02932379-9354-421b-8f16-1f424ccd99a8"
      },
      "execution_count": 29,
      "outputs": [
        {
          "output_type": "execute_result",
          "data": {
            "text/plain": [
              "                                           CodeKata Score\n",
              "Department                                               \n",
              "Computer Science and Engineering                   320025\n",
              "Electronics and Communication Engineering          108335\n",
              "Electronics and Electrical Engineering              53800"
            ],
            "text/html": [
              "\n",
              "  <div id=\"df-2bca599e-61b1-400f-b6a6-acbf0a91aab1\">\n",
              "    <div class=\"colab-df-container\">\n",
              "      <div>\n",
              "<style scoped>\n",
              "    .dataframe tbody tr th:only-of-type {\n",
              "        vertical-align: middle;\n",
              "    }\n",
              "\n",
              "    .dataframe tbody tr th {\n",
              "        vertical-align: top;\n",
              "    }\n",
              "\n",
              "    .dataframe thead th {\n",
              "        text-align: right;\n",
              "    }\n",
              "</style>\n",
              "<table border=\"1\" class=\"dataframe\">\n",
              "  <thead>\n",
              "    <tr style=\"text-align: right;\">\n",
              "      <th></th>\n",
              "      <th>CodeKata Score</th>\n",
              "    </tr>\n",
              "    <tr>\n",
              "      <th>Department</th>\n",
              "      <th></th>\n",
              "    </tr>\n",
              "  </thead>\n",
              "  <tbody>\n",
              "    <tr>\n",
              "      <th>Computer Science and Engineering</th>\n",
              "      <td>320025</td>\n",
              "    </tr>\n",
              "    <tr>\n",
              "      <th>Electronics and Communication Engineering</th>\n",
              "      <td>108335</td>\n",
              "    </tr>\n",
              "    <tr>\n",
              "      <th>Electronics and Electrical Engineering</th>\n",
              "      <td>53800</td>\n",
              "    </tr>\n",
              "  </tbody>\n",
              "</table>\n",
              "</div>\n",
              "      <button class=\"colab-df-convert\" onclick=\"convertToInteractive('df-2bca599e-61b1-400f-b6a6-acbf0a91aab1')\"\n",
              "              title=\"Convert this dataframe to an interactive table.\"\n",
              "              style=\"display:none;\">\n",
              "        \n",
              "  <svg xmlns=\"http://www.w3.org/2000/svg\" height=\"24px\"viewBox=\"0 0 24 24\"\n",
              "       width=\"24px\">\n",
              "    <path d=\"M0 0h24v24H0V0z\" fill=\"none\"/>\n",
              "    <path d=\"M18.56 5.44l.94 2.06.94-2.06 2.06-.94-2.06-.94-.94-2.06-.94 2.06-2.06.94zm-11 1L8.5 8.5l.94-2.06 2.06-.94-2.06-.94L8.5 2.5l-.94 2.06-2.06.94zm10 10l.94 2.06.94-2.06 2.06-.94-2.06-.94-.94-2.06-.94 2.06-2.06.94z\"/><path d=\"M17.41 7.96l-1.37-1.37c-.4-.4-.92-.59-1.43-.59-.52 0-1.04.2-1.43.59L10.3 9.45l-7.72 7.72c-.78.78-.78 2.05 0 2.83L4 21.41c.39.39.9.59 1.41.59.51 0 1.02-.2 1.41-.59l7.78-7.78 2.81-2.81c.8-.78.8-2.07 0-2.86zM5.41 20L4 18.59l7.72-7.72 1.47 1.35L5.41 20z\"/>\n",
              "  </svg>\n",
              "      </button>\n",
              "      \n",
              "  <style>\n",
              "    .colab-df-container {\n",
              "      display:flex;\n",
              "      flex-wrap:wrap;\n",
              "      gap: 12px;\n",
              "    }\n",
              "\n",
              "    .colab-df-convert {\n",
              "      background-color: #E8F0FE;\n",
              "      border: none;\n",
              "      border-radius: 50%;\n",
              "      cursor: pointer;\n",
              "      display: none;\n",
              "      fill: #1967D2;\n",
              "      height: 32px;\n",
              "      padding: 0 0 0 0;\n",
              "      width: 32px;\n",
              "    }\n",
              "\n",
              "    .colab-df-convert:hover {\n",
              "      background-color: #E2EBFA;\n",
              "      box-shadow: 0px 1px 2px rgba(60, 64, 67, 0.3), 0px 1px 3px 1px rgba(60, 64, 67, 0.15);\n",
              "      fill: #174EA6;\n",
              "    }\n",
              "\n",
              "    [theme=dark] .colab-df-convert {\n",
              "      background-color: #3B4455;\n",
              "      fill: #D2E3FC;\n",
              "    }\n",
              "\n",
              "    [theme=dark] .colab-df-convert:hover {\n",
              "      background-color: #434B5C;\n",
              "      box-shadow: 0px 1px 3px 1px rgba(0, 0, 0, 0.15);\n",
              "      filter: drop-shadow(0px 1px 2px rgba(0, 0, 0, 0.3));\n",
              "      fill: #FFFFFF;\n",
              "    }\n",
              "  </style>\n",
              "\n",
              "      <script>\n",
              "        const buttonEl =\n",
              "          document.querySelector('#df-2bca599e-61b1-400f-b6a6-acbf0a91aab1 button.colab-df-convert');\n",
              "        buttonEl.style.display =\n",
              "          google.colab.kernel.accessAllowed ? 'block' : 'none';\n",
              "\n",
              "        async function convertToInteractive(key) {\n",
              "          const element = document.querySelector('#df-2bca599e-61b1-400f-b6a6-acbf0a91aab1');\n",
              "          const dataTable =\n",
              "            await google.colab.kernel.invokeFunction('convertToInteractive',\n",
              "                                                     [key], {});\n",
              "          if (!dataTable) return;\n",
              "\n",
              "          const docLinkHtml = 'Like what you see? Visit the ' +\n",
              "            '<a target=\"_blank\" href=https://colab.research.google.com/notebooks/data_table.ipynb>data table notebook</a>'\n",
              "            + ' to learn more about interactive tables.';\n",
              "          element.innerHTML = '';\n",
              "          dataTable['output_type'] = 'display_data';\n",
              "          await google.colab.output.renderOutput(dataTable, element);\n",
              "          const docLink = document.createElement('div');\n",
              "          docLink.innerHTML = docLinkHtml;\n",
              "          element.appendChild(docLink);\n",
              "        }\n",
              "      </script>\n",
              "    </div>\n",
              "  </div>\n",
              "  "
            ]
          },
          "metadata": {},
          "execution_count": 29
        }
      ]
    },
    {
      "cell_type": "code",
      "source": [
        "pie_chart=df8.plot.pie(subplots=True, figsize=(15, 15))"
      ],
      "metadata": {
        "colab": {
          "base_uri": "https://localhost:8080/",
          "height": 846
        },
        "id": "Moion9-HZHsA",
        "outputId": "dde29831-db90-4594-a024-445ed6c079d4"
      },
      "execution_count": 30,
      "outputs": [
        {
          "output_type": "display_data",
          "data": {
            "text/plain": [
              "<Figure size 1080x1080 with 1 Axes>"
            ],
            "image/png": "[encoded data removed]"
          },
          "metadata": {}
        }
      ]
    },
    {
      "cell_type": "code",
      "source": [
        "plt.barh(df2[\"Department\"],df2[\"CodeKata Score\"])\n",
        "plt.show()"
      ],
      "metadata": {
        "colab": {
          "base_uri": "https://localhost:8080/",
          "height": 265
        },
        "id": "ajoypdEyaKNs",
        "outputId": "3123b39f-e2b6-4d88-cd6b-f22779e479a0"
      },
      "execution_count": 31,
      "outputs": [
        {
          "output_type": "display_data",
          "data": {
            "text/plain": [
              "<Figure size 432x288 with 1 Axes>"
            ],
            "image/png": "[encoded data removed]"
          },
          "metadata": {
            "needs_background": "light"
          }
        }
      ]
    }
  ]
}